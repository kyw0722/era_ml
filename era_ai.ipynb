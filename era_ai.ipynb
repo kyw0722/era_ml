{
 "cells": [
  {
   "cell_type": "code",
   "execution_count": 21,
   "id": "4708a93c",
   "metadata": {},
   "outputs": [],
   "source": [
    "import pandas as pd\n",
    "import numpy as np\n",
    "import tensorflow as tf\n",
    "import matplotlib.pyplot as plt\n",
    "from keras import layers, models, optimizers, losses"
   ]
  },
  {
   "cell_type": "code",
   "execution_count": 22,
   "id": "5fa24719",
   "metadata": {},
   "outputs": [],
   "source": [
    "bb_k_fip = pd.read_csv(\"./bb_fip.csv\")\n",
    "FBv = pd.read_csv(\"./FBv.csv\")\n",
    "hr = pd.read_csv(\"./HR.csv\")"
   ]
  },
  {
   "cell_type": "code",
   "execution_count": 24,
   "id": "5da363e5",
   "metadata": {},
   "outputs": [],
   "source": [
    "bb_k = bb_k_fip[['BB', 'K']]\n",
    "fip = bb_k_fip[['FIP']]\n",
    "hr = hr[['HR']]\n",
    "FBv = FBv[['FBv']]\n",
    "\n",
    "X = pd.concat([bb_k, FBv], axis = 1)\n",
    "X = pd.concat([X, hr], axis = 1)\n",
    "y = fip[['FIP']]"
   ]
  },
  {
   "cell_type": "code",
   "execution_count": 25,
   "id": "8360959b",
   "metadata": {},
   "outputs": [
    {
     "name": "stdout",
     "output_type": "stream",
     "text": [
      "<class 'pandas.core.frame.DataFrame'>\n",
      "RangeIndex: 2698 entries, 0 to 2697\n",
      "Data columns (total 4 columns):\n",
      " #   Column  Non-Null Count  Dtype  \n",
      "---  ------  --------------  -----  \n",
      " 0   BB      2698 non-null   float64\n",
      " 1   K       2698 non-null   float64\n",
      " 2   FBv     2698 non-null   float64\n",
      " 3   HR      2698 non-null   int64  \n",
      "dtypes: float64(3), int64(1)\n",
      "memory usage: 84.4 KB\n"
     ]
    }
   ],
   "source": [
    "X.info()"
   ]
  },
  {
   "cell_type": "code",
   "execution_count": 26,
   "id": "9c5c4ad2",
   "metadata": {},
   "outputs": [
    {
     "data": {
      "image/png": "[encoded data removed]",
      "text/plain": [
       "<Figure size 640x480 with 1 Axes>"
      ]
     },
     "metadata": {},
     "output_type": "display_data"
    }
   ],
   "source": [
    "plt.hist(y)\n",
    "plt.show()"
   ]
  },
  {
   "cell_type": "code",
   "execution_count": 27,
   "id": "570e9fea",
   "metadata": {},
   "outputs": [
    {
     "data": {
      "text/html": [
       "<div>\n",
       "<style scoped>\n",
       "    .dataframe tbody tr th:only-of-type {\n",
       "        vertical-align: middle;\n",
       "    }\n",
       "\n",
       "    .dataframe tbody tr th {\n",
       "        vertical-align: top;\n",
       "    }\n",
       "\n",
       "    .dataframe thead th {\n",
       "        text-align: right;\n",
       "    }\n",
       "</style>\n",
       "<table border=\"1\" class=\"dataframe\">\n",
       "  <thead>\n",
       "    <tr style=\"text-align: right;\">\n",
       "      <th></th>\n",
       "      <th>FIP</th>\n",
       "    </tr>\n",
       "  </thead>\n",
       "  <tbody>\n",
       "    <tr>\n",
       "      <th>count</th>\n",
       "      <td>2698.000000</td>\n",
       "    </tr>\n",
       "    <tr>\n",
       "      <th>mean</th>\n",
       "      <td>4.171679</td>\n",
       "    </tr>\n",
       "    <tr>\n",
       "      <th>std</th>\n",
       "      <td>0.752043</td>\n",
       "    </tr>\n",
       "    <tr>\n",
       "      <th>min</th>\n",
       "      <td>1.630000</td>\n",
       "    </tr>\n",
       "    <tr>\n",
       "      <th>25%</th>\n",
       "      <td>3.680000</td>\n",
       "    </tr>\n",
       "    <tr>\n",
       "      <th>50%</th>\n",
       "      <td>4.170000</td>\n",
       "    </tr>\n",
       "    <tr>\n",
       "      <th>75%</th>\n",
       "      <td>4.690000</td>\n",
       "    </tr>\n",
       "    <tr>\n",
       "      <th>max</th>\n",
       "      <td>6.760000</td>\n",
       "    </tr>\n",
       "  </tbody>\n",
       "</table>\n",
       "</div>"
      ],
      "text/plain": [
       "               FIP\n",
       "count  2698.000000\n",
       "mean      4.171679\n",
       "std       0.752043\n",
       "min       1.630000\n",
       "25%       3.680000\n",
       "50%       4.170000\n",
       "75%       4.690000\n",
       "max       6.760000"
      ]
     },
     "execution_count": 27,
     "metadata": {},
     "output_type": "execute_result"
    }
   ],
   "source": [
    "y.describe()"
   ]
  },
  {
   "cell_type": "code",
   "execution_count": 28,
   "id": "38d051ee",
   "metadata": {},
   "outputs": [],
   "source": [
    "y['fip_cut'] = pd.cut(y.FIP, bins = [0, 3, 4, 5, 7], labels = [\"elite\", \"average\", \"poor\", \"awful\"])"
   ]
  },
  {
   "cell_type": "code",
   "execution_count": 29,
   "id": "ee92498a",
   "metadata": {},
   "outputs": [
    {
     "data": {
      "text/html": [
       "<div>\n",
       "<style scoped>\n",
       "    .dataframe tbody tr th:only-of-type {\n",
       "        vertical-align: middle;\n",
       "    }\n",
       "\n",
       "    .dataframe tbody tr th {\n",
       "        vertical-align: top;\n",
       "    }\n",
       "\n",
       "    .dataframe thead th {\n",
       "        text-align: right;\n",
       "    }\n",
       "</style>\n",
       "<table border=\"1\" class=\"dataframe\">\n",
       "  <thead>\n",
       "    <tr style=\"text-align: right;\">\n",
       "      <th></th>\n",
       "      <th>FIP</th>\n",
       "      <th>fip_cut</th>\n",
       "    </tr>\n",
       "  </thead>\n",
       "  <tbody>\n",
       "    <tr>\n",
       "      <th>0</th>\n",
       "      <td>3.19</td>\n",
       "      <td>average</td>\n",
       "    </tr>\n",
       "    <tr>\n",
       "      <th>1</th>\n",
       "      <td>3.19</td>\n",
       "      <td>average</td>\n",
       "    </tr>\n",
       "    <tr>\n",
       "      <th>2</th>\n",
       "      <td>3.11</td>\n",
       "      <td>average</td>\n",
       "    </tr>\n",
       "    <tr>\n",
       "      <th>3</th>\n",
       "      <td>3.79</td>\n",
       "      <td>average</td>\n",
       "    </tr>\n",
       "    <tr>\n",
       "      <th>4</th>\n",
       "      <td>4.33</td>\n",
       "      <td>poor</td>\n",
       "    </tr>\n",
       "    <tr>\n",
       "      <th>...</th>\n",
       "      <td>...</td>\n",
       "      <td>...</td>\n",
       "    </tr>\n",
       "    <tr>\n",
       "      <th>2693</th>\n",
       "      <td>4.17</td>\n",
       "      <td>poor</td>\n",
       "    </tr>\n",
       "    <tr>\n",
       "      <th>2694</th>\n",
       "      <td>3.55</td>\n",
       "      <td>average</td>\n",
       "    </tr>\n",
       "    <tr>\n",
       "      <th>2695</th>\n",
       "      <td>3.25</td>\n",
       "      <td>average</td>\n",
       "    </tr>\n",
       "    <tr>\n",
       "      <th>2696</th>\n",
       "      <td>3.48</td>\n",
       "      <td>average</td>\n",
       "    </tr>\n",
       "    <tr>\n",
       "      <th>2697</th>\n",
       "      <td>2.59</td>\n",
       "      <td>elite</td>\n",
       "    </tr>\n",
       "  </tbody>\n",
       "</table>\n",
       "<p>2698 rows × 2 columns</p>\n",
       "</div>"
      ],
      "text/plain": [
       "       FIP  fip_cut\n",
       "0     3.19  average\n",
       "1     3.19  average\n",
       "2     3.11  average\n",
       "3     3.79  average\n",
       "4     4.33     poor\n",
       "...    ...      ...\n",
       "2693  4.17     poor\n",
       "2694  3.55  average\n",
       "2695  3.25  average\n",
       "2696  3.48  average\n",
       "2697  2.59    elite\n",
       "\n",
       "[2698 rows x 2 columns]"
      ]
     },
     "execution_count": 29,
     "metadata": {},
     "output_type": "execute_result"
    }
   ],
   "source": [
    "y"
   ]
  },
  {
   "cell_type": "code",
   "execution_count": 30,
   "id": "c4840831",
   "metadata": {},
   "outputs": [],
   "source": [
    "from sklearn.preprocessing import OneHotEncoder\n",
    "ohe = OneHotEncoder()\n",
    "ohe.fit(y[['fip_cut']])\n",
    "\n",
    "y_train_res = ohe.transform(y[['fip_cut']])"
   ]
  },
  {
   "cell_type": "code",
   "execution_count": 31,
   "id": "415d11da",
   "metadata": {},
   "outputs": [],
   "source": [
    "y_train_ohe = pd.DataFrame(y_train_res.todense(), columns = ohe.get_feature_names_out())"
   ]
  },
  {
   "cell_type": "code",
   "execution_count": 32,
   "id": "ebc172a7",
   "metadata": {},
   "outputs": [],
   "source": [
    "from sklearn.model_selection import train_test_split\n",
    "X_train, X_test, y_train, y_test = train_test_split(X, y_train_ohe, test_size = 0.2)"
   ]
  },
  {
   "cell_type": "code",
   "execution_count": 33,
   "id": "f96885da",
   "metadata": {},
   "outputs": [],
   "source": [
    "from sklearn.preprocessing import MinMaxScaler\n",
    "scaler = MinMaxScaler()\n",
    "scaler.fit(X_train)\n",
    "X_train = scaler.transform(X_train)\n",
    "X_test = scaler.transform(X_test)"
   ]
  },
  {
   "cell_type": "code",
   "execution_count": 34,
   "id": "b4fb07c3",
   "metadata": {},
   "outputs": [
    {
     "data": {
      "text/plain": [
       "(2158, 4)"
      ]
     },
     "execution_count": 34,
     "metadata": {},
     "output_type": "execute_result"
    }
   ],
   "source": [
    "X_train.shape"
   ]
  },
  {
   "cell_type": "code",
   "execution_count": 35,
   "id": "464ef6d4",
   "metadata": {
    "scrolled": false
   },
   "outputs": [],
   "source": [
    "x = layers.Input(shape = (X_train.shape[1]))\n",
    "relu = layers.Dense(64, activation='relu')(x)\n",
    "dropout = layers.Dropout(0.3)(relu)\n",
    "relu = layers.Dense(32, activation='relu')(dropout)\n",
    "dropout = layers.Dropout(0.3)(relu)\n",
    "relu = layers.Dense(16, activation='relu')(dropout)\n",
    "y = layers.Dense(4, activation='softmax')(relu)\n",
    "\n",
    "optimizer = optimizers.Adam(learning_rate=1e-2)\n",
    "loss = losses.CategoricalCrossentropy()\n",
    "\n",
    "model = models.Model(x, y)\n",
    "model.compile(optimizer=optimizer, loss=loss, metrics=['accuracy'])"
   ]
  },
  {
   "cell_type": "code",
   "execution_count": 36,
   "id": "733ca750",
   "metadata": {},
   "outputs": [],
   "source": [
    "from keras import callbacks\n",
    "es = callbacks.EarlyStopping(monitor='val_loss', mode='min', patience=10)"
   ]
  },
  {
   "cell_type": "code",
   "execution_count": 37,
   "id": "be18a424",
   "metadata": {},
   "outputs": [
    {
     "name": "stdout",
     "output_type": "stream",
     "text": [
      "Epoch 1/100\n"
     ]
    },
    {
     "name": "stderr",
     "output_type": "stream",
     "text": [
      "2023-02-22 10:54:28.666351: I tensorflow/core/grappler/optimizers/custom_graph_optimizer_registry.cc:113] Plugin optimizer for device_type GPU is enabled.\n"
     ]
    },
    {
     "name": "stdout",
     "output_type": "stream",
     "text": [
      "68/68 [==============================] - 1s 14ms/step - loss: 1.0382 - accuracy: 0.5663 - val_loss: 0.7792 - val_accuracy: 0.6407\n",
      "Epoch 2/100\n",
      " 1/68 [..............................] - ETA: 0s - loss: 0.6711 - accuracy: 0.7812"
     ]
    },
    {
     "name": "stderr",
     "output_type": "stream",
     "text": [
      "2023-02-22 10:54:29.678742: I tensorflow/core/grappler/optimizers/custom_graph_optimizer_registry.cc:113] Plugin optimizer for device_type GPU is enabled.\n"
     ]
    },
    {
     "name": "stdout",
     "output_type": "stream",
     "text": [
      "68/68 [==============================] - 1s 11ms/step - loss: 0.7625 - accuracy: 0.6594 - val_loss: 0.6649 - val_accuracy: 0.6833\n",
      "Epoch 3/100\n",
      "68/68 [==============================] - 1s 13ms/step - loss: 0.6990 - accuracy: 0.6951 - val_loss: 0.6446 - val_accuracy: 0.6907\n",
      "Epoch 4/100\n",
      "68/68 [==============================] - 1s 11ms/step - loss: 0.6797 - accuracy: 0.6969 - val_loss: 0.7004 - val_accuracy: 0.6907\n",
      "Epoch 5/100\n",
      "68/68 [==============================] - 1s 11ms/step - loss: 0.6877 - accuracy: 0.6858 - val_loss: 0.6407 - val_accuracy: 0.7019\n",
      "Epoch 6/100\n",
      "68/68 [==============================] - 1s 10ms/step - loss: 0.6571 - accuracy: 0.7034 - val_loss: 0.6804 - val_accuracy: 0.6778\n",
      "Epoch 7/100\n",
      "68/68 [==============================] - 1s 10ms/step - loss: 0.6480 - accuracy: 0.7122 - val_loss: 0.7730 - val_accuracy: 0.6481\n",
      "Epoch 8/100\n",
      "68/68 [==============================] - 1s 10ms/step - loss: 0.6448 - accuracy: 0.7183 - val_loss: 0.6570 - val_accuracy: 0.7056\n",
      "Epoch 9/100\n",
      "68/68 [==============================] - 1s 10ms/step - loss: 0.6512 - accuracy: 0.7025 - val_loss: 0.6559 - val_accuracy: 0.7111\n",
      "Epoch 10/100\n",
      "68/68 [==============================] - 1s 10ms/step - loss: 0.6471 - accuracy: 0.7034 - val_loss: 0.6476 - val_accuracy: 0.7019\n",
      "Epoch 11/100\n",
      "68/68 [==============================] - 1s 10ms/step - loss: 0.6460 - accuracy: 0.7039 - val_loss: 0.6435 - val_accuracy: 0.7111\n",
      "Epoch 12/100\n",
      "68/68 [==============================] - 1s 10ms/step - loss: 0.6326 - accuracy: 0.7067 - val_loss: 0.6300 - val_accuracy: 0.6944\n",
      "Epoch 13/100\n",
      "68/68 [==============================] - 1s 10ms/step - loss: 0.6519 - accuracy: 0.7113 - val_loss: 0.6937 - val_accuracy: 0.6630\n",
      "Epoch 14/100\n",
      "68/68 [==============================] - 1s 10ms/step - loss: 0.6301 - accuracy: 0.7104 - val_loss: 0.6502 - val_accuracy: 0.7185\n",
      "Epoch 15/100\n",
      "68/68 [==============================] - 1s 10ms/step - loss: 0.6280 - accuracy: 0.7159 - val_loss: 0.6343 - val_accuracy: 0.7074\n",
      "Epoch 16/100\n",
      "68/68 [==============================] - 1s 10ms/step - loss: 0.6376 - accuracy: 0.7155 - val_loss: 0.6580 - val_accuracy: 0.7056\n",
      "Epoch 17/100\n",
      "68/68 [==============================] - 1s 10ms/step - loss: 0.6333 - accuracy: 0.7127 - val_loss: 0.6763 - val_accuracy: 0.6981\n",
      "Epoch 18/100\n",
      "68/68 [==============================] - 1s 10ms/step - loss: 0.6254 - accuracy: 0.7136 - val_loss: 0.6679 - val_accuracy: 0.7130\n",
      "Epoch 19/100\n",
      "68/68 [==============================] - 1s 10ms/step - loss: 0.6430 - accuracy: 0.7034 - val_loss: 0.6563 - val_accuracy: 0.6759\n",
      "Epoch 20/100\n",
      "68/68 [==============================] - 1s 10ms/step - loss: 0.6260 - accuracy: 0.7206 - val_loss: 0.6409 - val_accuracy: 0.7074\n",
      "Epoch 21/100\n",
      "68/68 [==============================] - 1s 10ms/step - loss: 0.6526 - accuracy: 0.7071 - val_loss: 0.6617 - val_accuracy: 0.6889\n",
      "Epoch 22/100\n",
      "68/68 [==============================] - 1s 10ms/step - loss: 0.6351 - accuracy: 0.7057 - val_loss: 0.6391 - val_accuracy: 0.7056\n"
     ]
    }
   ],
   "source": [
    "history = model.fit(X_train, y_train, epochs=100, batch_size=32, validation_data=[X_test, y_test], verbose=1, callbacks=es)"
   ]
  },
  {
   "cell_type": "code",
   "execution_count": 38,
   "id": "446e055d",
   "metadata": {},
   "outputs": [
    {
     "data": {
      "text/html": [
       "<style>#sk-container-id-2 {color: black;background-color: white;}#sk-container-id-2 pre{padding: 0;}#sk-container-id-2 div.sk-toggleable {background-color: white;}#sk-container-id-2 label.sk-toggleable__label {cursor: pointer;display: block;width: 100%;margin-bottom: 0;padding: 0.3em;box-sizing: border-box;text-align: center;}#sk-container-id-2 label.sk-toggleable__label-arrow:before {content: \"▸\";float: left;margin-right: 0.25em;color: #696969;}#sk-container-id-2 label.sk-toggleable__label-arrow:hover:before {color: black;}#sk-container-id-2 div.sk-estimator:hover label.sk-toggleable__label-arrow:before {color: black;}#sk-container-id-2 div.sk-toggleable__content {max-height: 0;max-width: 0;overflow: hidden;text-align: left;background-color: #f0f8ff;}#sk-container-id-2 div.sk-toggleable__content pre {margin: 0.2em;color: black;border-radius: 0.25em;background-color: #f0f8ff;}#sk-container-id-2 input.sk-toggleable__control:checked~div.sk-toggleable__content {max-height: 200px;max-width: 100%;overflow: auto;}#sk-container-id-2 input.sk-toggleable__control:checked~label.sk-toggleable__label-arrow:before {content: \"▾\";}#sk-container-id-2 div.sk-estimator input.sk-toggleable__control:checked~label.sk-toggleable__label {background-color: #d4ebff;}#sk-container-id-2 div.sk-label input.sk-toggleable__control:checked~label.sk-toggleable__label {background-color: #d4ebff;}#sk-container-id-2 input.sk-hidden--visually {border: 0;clip: rect(1px 1px 1px 1px);clip: rect(1px, 1px, 1px, 1px);height: 1px;margin: -1px;overflow: hidden;padding: 0;position: absolute;width: 1px;}#sk-container-id-2 div.sk-estimator {font-family: monospace;background-color: #f0f8ff;border: 1px dotted black;border-radius: 0.25em;box-sizing: border-box;margin-bottom: 0.5em;}#sk-container-id-2 div.sk-estimator:hover {background-color: #d4ebff;}#sk-container-id-2 div.sk-parallel-item::after {content: \"\";width: 100%;border-bottom: 1px solid gray;flex-grow: 1;}#sk-container-id-2 div.sk-label:hover label.sk-toggleable__label {background-color: #d4ebff;}#sk-container-id-2 div.sk-serial::before {content: \"\";position: absolute;border-left: 1px solid gray;box-sizing: border-box;top: 0;bottom: 0;left: 50%;z-index: 0;}#sk-container-id-2 div.sk-serial {display: flex;flex-direction: column;align-items: center;background-color: white;padding-right: 0.2em;padding-left: 0.2em;position: relative;}#sk-container-id-2 div.sk-item {position: relative;z-index: 1;}#sk-container-id-2 div.sk-parallel {display: flex;align-items: stretch;justify-content: center;background-color: white;position: relative;}#sk-container-id-2 div.sk-item::before, #sk-container-id-2 div.sk-parallel-item::before {content: \"\";position: absolute;border-left: 1px solid gray;box-sizing: border-box;top: 0;bottom: 0;left: 50%;z-index: -1;}#sk-container-id-2 div.sk-parallel-item {display: flex;flex-direction: column;z-index: 1;position: relative;background-color: white;}#sk-container-id-2 div.sk-parallel-item:first-child::after {align-self: flex-end;width: 50%;}#sk-container-id-2 div.sk-parallel-item:last-child::after {align-self: flex-start;width: 50%;}#sk-container-id-2 div.sk-parallel-item:only-child::after {width: 0;}#sk-container-id-2 div.sk-dashed-wrapped {border: 1px dashed gray;margin: 0 0.4em 0.5em 0.4em;box-sizing: border-box;padding-bottom: 0.4em;background-color: white;}#sk-container-id-2 div.sk-label label {font-family: monospace;font-weight: bold;display: inline-block;line-height: 1.2em;}#sk-container-id-2 div.sk-label-container {text-align: center;}#sk-container-id-2 div.sk-container {/* jupyter's `normalize.less` sets `[hidden] { display: none; }` but bootstrap.min.css set `[hidden] { display: none !important; }` so we also need the `!important` here to be able to override the default hidden behavior on the sphinx rendered scikit-learn.org. See: https://github.com/scikit-learn/scikit-learn/issues/21755 */display: inline-block !important;position: relative;}#sk-container-id-2 div.sk-text-repr-fallback {display: none;}</style><div id=\"sk-container-id-2\" class=\"sk-top-container\"><div class=\"sk-text-repr-fallback\"><pre>RandomForestClassifier()</pre><b>In a Jupyter environment, please rerun this cell to show the HTML representation or trust the notebook. <br />On GitHub, the HTML representation is unable to render, please try loading this page with nbviewer.org.</b></div><div class=\"sk-container\" hidden><div class=\"sk-item\"><div class=\"sk-estimator sk-toggleable\"><input class=\"sk-toggleable__control sk-hidden--visually\" id=\"sk-estimator-id-2\" type=\"checkbox\" checked><label for=\"sk-estimator-id-2\" class=\"sk-toggleable__label sk-toggleable__label-arrow\">RandomForestClassifier</label><div class=\"sk-toggleable__content\"><pre>RandomForestClassifier()</pre></div></div></div></div></div>"
      ],
      "text/plain": [
       "RandomForestClassifier()"
      ]
     },
     "execution_count": 38,
     "metadata": {},
     "output_type": "execute_result"
    }
   ],
   "source": [
    "from sklearn.ensemble import RandomForestClassifier\n",
    "modelRF = RandomForestClassifier()\n",
    "modelRF.fit(X_train, y_train)"
   ]
  },
  {
   "cell_type": "code",
   "execution_count": 39,
   "id": "908511d2",
   "metadata": {},
   "outputs": [],
   "source": [
    "y_train_pred = modelRF.predict(X_train)\n",
    "y_test_pred = modelRF.predict(X_test)"
   ]
  },
  {
   "cell_type": "code",
   "execution_count": 40,
   "id": "00d25d60",
   "metadata": {},
   "outputs": [
    {
     "name": "stdout",
     "output_type": "stream",
     "text": [
      "              precision    recall  f1-score   support\n",
      "\n",
      "           0       1.00      1.00      1.00       761\n",
      "           1       1.00      1.00      1.00       269\n",
      "           2       1.00      1.00      1.00       142\n",
      "           3       1.00      1.00      1.00       986\n",
      "\n",
      "   micro avg       1.00      1.00      1.00      2158\n",
      "   macro avg       1.00      1.00      1.00      2158\n",
      "weighted avg       1.00      1.00      1.00      2158\n",
      " samples avg       1.00      1.00      1.00      2158\n",
      "\n"
     ]
    }
   ],
   "source": [
    "from sklearn.metrics import classification_report\n",
    "print(classification_report(y_train, y_train_pred))"
   ]
  },
  {
   "cell_type": "code",
   "execution_count": 41,
   "id": "cc741fe4",
   "metadata": {},
   "outputs": [
    {
     "name": "stdout",
     "output_type": "stream",
     "text": [
      "              precision    recall  f1-score   support\n",
      "\n",
      "           0       0.76      0.73      0.75       189\n",
      "           1       0.60      0.33      0.43        82\n",
      "           2       0.93      0.54      0.68        24\n",
      "           3       0.68      0.78      0.72       245\n",
      "\n",
      "   micro avg       0.71      0.68      0.69       540\n",
      "   macro avg       0.74      0.59      0.64       540\n",
      "weighted avg       0.71      0.68      0.68       540\n",
      " samples avg       0.68      0.68      0.68       540\n",
      "\n"
     ]
    },
    {
     "name": "stderr",
     "output_type": "stream",
     "text": [
      "/Users/kim-yeong-u/miniforge3/envs/py3_8_13/lib/python3.8/site-packages/sklearn/metrics/_classification.py:1344: UndefinedMetricWarning: Precision and F-score are ill-defined and being set to 0.0 in samples with no predicted labels. Use `zero_division` parameter to control this behavior.\n",
      "  _warn_prf(average, modifier, msg_start, len(result))\n"
     ]
    }
   ],
   "source": [
    "print(classification_report(y_test, y_test_pred))"
   ]
  },
  {
   "cell_type": "code",
   "execution_count": null,
   "id": "7b7b0c98",
   "metadata": {},
   "outputs": [],
   "source": []
  }
 ],
 "metadata": {
  "kernelspec": {
   "display_name": "py3_8_13",
   "language": "python",
   "name": "py3_8_13"
  },
  "language_info": {
   "codemirror_mode": {
    "name": "ipython",
    "version": 3
   },
   "file_extension": ".py",
   "mimetype": "text/x-python",
   "name": "python",
   "nbconvert_exporter": "python",
   "pygments_lexer": "ipython3",
   "version": "3.8.13"
  }
 },
 "nbformat": 4,
 "nbformat_minor": 5
}
